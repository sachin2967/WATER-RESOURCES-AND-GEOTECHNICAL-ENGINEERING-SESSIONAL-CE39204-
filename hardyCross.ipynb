{
  "nbformat": 4,
  "nbformat_minor": 0,
  "metadata": {
    "colab": {
      "provenance": [],
      "authorship_tag": "ABX9TyOFmGSytmXGZ6FDZN0ydHvb",
      "include_colab_link": true
    },
    "kernelspec": {
      "name": "python3",
      "display_name": "Python 3"
    },
    "language_info": {
      "name": "python"
    }
  },
  "cells": [
    {
      "cell_type": "markdown",
      "metadata": {
        "id": "view-in-github",
        "colab_type": "text"
      },
      "source": [
        "<a href=\"https://colab.research.google.com/github/sachin2967/WATER-RESOURCES-AND-GEOTECHNICAL-ENGINEERING-SESSIONAL-CE39204-/blob/main/hardyCross.ipynb\" target=\"_parent\"><img src=\"https://colab.research.google.com/assets/colab-badge.svg\" alt=\"Open In Colab\"/></a>"
      ]
    },
    {
      "cell_type": "code",
      "execution_count": null,
      "metadata": {
        "colab": {
          "base_uri": "https://localhost:8080/"
        },
        "id": "kh2RnM3SDEUx",
        "outputId": "7749c81a-77d5-4bf9-aca0-b437ac4abe21"
      },
      "outputs": [
        {
          "output_type": "stream",
          "name": "stdout",
          "text": [
            "Final values as per Branches mentioned in question \n",
            "Branch 1 :  318.2258795859881\n",
            "Branch 2 :  277.7741204140119\n",
            "Branch 3 :  114.85646670941316\n",
            "Branch 4 :  59.856466709413134\n",
            "Branch 5 :  107.91765370459873\n",
            "Branch 6 :  22.473881041285555\n",
            "Branch 7 :  27.330347750698692\n",
            "Branch 8 :  30.443772663313162\n",
            "Branch 9 :  57.46400795886274\n",
            "Branch 10 :  82.02023529554953\n",
            "Branch 11 :  80.20564429043858\n",
            "Branch 12 :  25.205644290438563\n",
            "Branch 13 :  29.794355709561433\n"
          ]
        }
      ],
      "source": [
        "#21CE10056 , Sachin Yadav\n",
        "import numpy as np      #importing necessary libraries\n",
        "import math\n",
        "\n",
        "# Define initial values for Q(flow rate) and K(resistance coefficient) arrays\n",
        "Q1 = np.array([298, 143, -8, -71, -298])            # Flow rates of individual branches stored in a array for loop 1\n",
        "K1 = np.array([95.9, 305, 3097, 611, 95.9])         # Resistance coefficient of individual branches stored in a array for loop 1\n",
        "Q2 = np.array([100, 45, -96, -143])                 #  loop 2\n",
        "K2 = np.array([305, 305, 3097, 305])                #  loop 2\n",
        "Q3 = np.array([96, 86, -8, 8])                      #  loop 3\n",
        "K3 = np.array([3097, 3097, 305, 3097])              #  loop 3\n",
        "Q4 = np.array([71, 8, 39, -16, -71])                #  loop 4\n",
        "K4 = np.array([611, 305, 3097, 9294, 305])          #  loop 4\n",
        "\n",
        "# Define a function to calculate deltaQ\n",
        "def deltaQ(Q, K):\n",
        "    num = sum(K * Q * abs(Q))\n",
        "    den = sum(2 * K * abs(Q))\n",
        "    dQ = -num / den\n",
        "    return dQ\n",
        "\n",
        "# Initialize rmse(root mean sqaure error) to 1, indicating very high error\n",
        "rmse = 1\n",
        "ct=0; #count variable to store no of iterations\n",
        "\n",
        "# Continue the loop until the error (rmse) is below the specified threshold\n",
        "while rmse > 0.00000000001:\n",
        "    # Calculate deltaQ for each set of Q and K\n",
        "    ct+=1\n",
        "    dQ1 = deltaQ(Q1, K1)\n",
        "    dQ2 = deltaQ(Q2, K2)\n",
        "    dQ3 = deltaQ(Q3, K3)\n",
        "    dQ4 = deltaQ(Q4, K4)\n",
        "\n",
        "    # Update Q arrays by adding corresponding deltaQ values\n",
        "    Q1 = Q1 + dQ1\n",
        "    Q2 = Q2 + dQ2\n",
        "    Q3 = Q3 + dQ3\n",
        "    Q4 = Q4 + dQ4\n",
        "\n",
        "    # Adjust Q value of common branches, based on other deltaQ values\n",
        "    Q1[1] -= dQ2 #subtracting the values, due to opp direction of loops assumed initially\n",
        "    Q1[2] -= dQ3\n",
        "    Q1[3] -= dQ4\n",
        "\n",
        "    Q2[2] -= dQ3\n",
        "    Q2[3] -= dQ1\n",
        "\n",
        "    Q3[0] -= dQ2\n",
        "    Q3[2] -= dQ4\n",
        "    Q3[3] -= dQ1\n",
        "\n",
        "    Q4[0] -= dQ1\n",
        "    Q4[1] -= dQ3\n",
        "\n",
        "    # Calculate the root mean square error (rmse) for the current iteration\n",
        "    rmse = math.sqrt((dQ1**2 + dQ2**2 + dQ3**2 + dQ4**2) / 4)\n",
        "\n",
        "# Print the final values of Q arrays\n",
        "# print(\"Values for individual loops \")\n",
        "# print(\"Q1:\", Q1)\n",
        "# print(\"Q2:\", Q2)\n",
        "# print(\"Q3:\", Q3)\n",
        "# print(\"Q4:\", Q4)\n",
        "#print(\"count \" , ct)\n",
        "\n",
        "print(\"Final values as per Branches mentioned in question \")\n",
        "Q = np.array([-Q1[4],Q1[0],Q2[0],Q2[1],-Q2[3],-Q2[2],Q3[1],-Q3[3],-Q3[2],Q4[0],-Q4[4],-Q4[3],Q4[2]])\n",
        "\n",
        "for i in range(0,13):\n",
        "  print('Branch' , i+1, ': ' , Q[i])\n",
        "\n",
        "\n"
      ]
    }
  ]
}